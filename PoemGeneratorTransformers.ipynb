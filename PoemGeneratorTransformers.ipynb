{
  "nbformat": 4,
  "nbformat_minor": 0,
  "metadata": {
    "colab": {
      "name": "PoemGeneratorTransformers.ipynb",
      "provenance": [],
      "collapsed_sections": [],
      "mount_file_id": "11eRu52NBzzMtHIEJlVnn_iFC2Nbgd5Ku",
      "authorship_tag": "ABX9TyPEU1nIFVnSLGBb9zlcN25v"
    },
    "kernelspec": {
      "name": "python3",
      "display_name": "Python 3"
    },
    "language_info": {
      "name": "python"
    }
  },
  "cells": [
    {
      "cell_type": "code",
      "execution_count": 8,
      "metadata": {
        "colab": {
          "base_uri": "https://localhost:8080/"
        },
        "id": "37x2D0x42REa",
        "outputId": "1ae05676-92cd-4eba-954c-3f90d576b962"
      },
      "outputs": [
        {
          "output_type": "stream",
          "name": "stdout",
          "text": [
            "Requirement already satisfied: transformers in /usr/local/lib/python3.7/dist-packages (4.18.0)\n",
            "Requirement already satisfied: tokenizers!=0.11.3,<0.13,>=0.11.1 in /usr/local/lib/python3.7/dist-packages (from transformers) (0.12.1)\n",
            "Requirement already satisfied: regex!=2019.12.17 in /usr/local/lib/python3.7/dist-packages (from transformers) (2019.12.20)\n",
            "Requirement already satisfied: importlib-metadata in /usr/local/lib/python3.7/dist-packages (from transformers) (4.11.3)\n",
            "Requirement already satisfied: filelock in /usr/local/lib/python3.7/dist-packages (from transformers) (3.6.0)\n",
            "Requirement already satisfied: sacremoses in /usr/local/lib/python3.7/dist-packages (from transformers) (0.0.53)\n",
            "Requirement already satisfied: numpy>=1.17 in /usr/local/lib/python3.7/dist-packages (from transformers) (1.21.6)\n",
            "Requirement already satisfied: pyyaml>=5.1 in /usr/local/lib/python3.7/dist-packages (from transformers) (6.0)\n",
            "Requirement already satisfied: packaging>=20.0 in /usr/local/lib/python3.7/dist-packages (from transformers) (21.3)\n",
            "Requirement already satisfied: requests in /usr/local/lib/python3.7/dist-packages (from transformers) (2.23.0)\n",
            "Requirement already satisfied: tqdm>=4.27 in /usr/local/lib/python3.7/dist-packages (from transformers) (4.64.0)\n",
            "Requirement already satisfied: huggingface-hub<1.0,>=0.1.0 in /usr/local/lib/python3.7/dist-packages (from transformers) (0.5.1)\n",
            "Requirement already satisfied: typing-extensions>=3.7.4.3 in /usr/local/lib/python3.7/dist-packages (from huggingface-hub<1.0,>=0.1.0->transformers) (4.2.0)\n",
            "Requirement already satisfied: pyparsing!=3.0.5,>=2.0.2 in /usr/local/lib/python3.7/dist-packages (from packaging>=20.0->transformers) (3.0.8)\n",
            "Requirement already satisfied: zipp>=0.5 in /usr/local/lib/python3.7/dist-packages (from importlib-metadata->transformers) (3.8.0)\n",
            "Requirement already satisfied: idna<3,>=2.5 in /usr/local/lib/python3.7/dist-packages (from requests->transformers) (2.10)\n",
            "Requirement already satisfied: urllib3!=1.25.0,!=1.25.1,<1.26,>=1.21.1 in /usr/local/lib/python3.7/dist-packages (from requests->transformers) (1.24.3)\n",
            "Requirement already satisfied: chardet<4,>=3.0.2 in /usr/local/lib/python3.7/dist-packages (from requests->transformers) (3.0.4)\n",
            "Requirement already satisfied: certifi>=2017.4.17 in /usr/local/lib/python3.7/dist-packages (from requests->transformers) (2021.10.8)\n",
            "Requirement already satisfied: six in /usr/local/lib/python3.7/dist-packages (from sacremoses->transformers) (1.15.0)\n",
            "Requirement already satisfied: joblib in /usr/local/lib/python3.7/dist-packages (from sacremoses->transformers) (1.1.0)\n",
            "Requirement already satisfied: click in /usr/local/lib/python3.7/dist-packages (from sacremoses->transformers) (7.1.2)\n"
          ]
        },
        {
          "output_type": "stream",
          "name": "stderr",
          "text": [
            "Setting `pad_token_id` to `eos_token_id`:50256 for open-end generation.\n"
          ]
        },
        {
          "output_type": "stream",
          "name": "stdout",
          "text": [
            "POEM BEFORE TRAINING\n",
            "POEM #0\n"
          ]
        },
        {
          "output_type": "stream",
          "name": "stderr",
          "text": [
            "Setting `pad_token_id` to `eos_token_id`:50256 for open-end generation.\n",
            "Setting `pad_token_id` to `eos_token_id`:50256 for open-end generation.\n",
            "Setting `pad_token_id` to `eos_token_id`:50256 for open-end generation.\n",
            "Setting `pad_token_id` to `eos_token_id`:50256 for open-end generation.\n",
            "Setting `pad_token_id` to `eos_token_id`:50256 for open-end generation.\n",
            "Setting `pad_token_id` to `eos_token_id`:50256 for open-end generation.\n",
            "Setting `pad_token_id` to `eos_token_id`:50256 for open-end generation.\n",
            "Setting `pad_token_id` to `eos_token_id`:50256 for open-end generation.\n",
            "Setting `pad_token_id` to `eos_token_id`:50256 for open-end generation.\n",
            "Setting `pad_token_id` to `eos_token_id`:50256 for open-end generation.\n",
            "Setting `pad_token_id` to `eos_token_id`:50256 for open-end generation.\n",
            "Setting `pad_token_id` to `eos_token_id`:50256 for open-end generation.\n",
            "Setting `pad_token_id` to `eos_token_id`:50256 for open-end generation.\n",
            "Setting `pad_token_id` to `eos_token_id`:50256 for open-end generation.\n",
            "Setting `pad_token_id` to `eos_token_id`:50256 for open-end generation.\n",
            "Setting `pad_token_id` to `eos_token_id`:50256 for open-end generation.\n",
            "Setting `pad_token_id` to `eos_token_id`:50256 for open-end generation.\n",
            "Setting `pad_token_id` to `eos_token_id`:50256 for open-end generation.\n",
            "Setting `pad_token_id` to `eos_token_id`:50256 for open-end generation.\n"
          ]
        },
        {
          "output_type": "stream",
          "name": "stdout",
          "text": [
            "I love deep learning(0): \t, but also it›​ Â  has its own unique challenge (and not a complete lack of understanding). I think this is an easy way to take advantage and find resources on your hands in the most highly\n",
            "(1): \t competitive market outside of\n",
            "(2): \t Japan, so as to make sure that we are good enough for the U.S. and China respectively.\"\n",
            "The announcement comes just weeks after a similar plan from Germany was approved by Congress in 2012 which would see Apple\n",
            "(3): \t adopt an online shopping\n",
            "(4): \t service and have access to all the information they need.\n",
            "“The company makes some of its products with our customers, which are so far from their core value or experience – it seems that customer privacy is no longer\n",
            "(5): \t a main concern when\n",
            "(6): \t we are on the field at full swing. We're looking forward to every single day and making sure that everything goes smoothly in our direction.\"\n",
            "The Nationals will go up 1-0 overall against them next season, with\n",
            "(7): \t one win over Carolina\n",
            "(8): \t in the NCAA tournament, this week.\n",
            "In those events not only are we still locked into a playoff game against an ACC team that may be playing better than Duke (21-5), but even though it seems like\n",
            "(9): \t such teams have played\n",
            "(10): \t on the field of their team since they made it to that position four years ago. They will face each other five times in every game this season, and are currently at just 15 points better than fourth-place finishes against\n",
            "(11): \t Detroit (19th\n",
            "(12): \t Street) – The last time I’m an American citizen this year, my first chance at driving came in the United States between November 4 and May 8 of 2015.\n",
            "I have worked just seven months to earn\n",
            "(13): \t two earned-ride\n",
            "(14): \t, but the game was set for a \"high\" final in Los Angeles. The goal is to advance up on their third consecutive weekend at San Diego State and tie them out there before Friday night's clash with California A\n",
            "(15): \t-15 (see\n",
            "(16): \t above) In the final example of a problem I had to run for, my friend Paul M. Peebles was one of them; after five years on The Hill he discovered that his wife is no longer alive in\n",
            "(17): \t her home — but\n",
            "(18): \t it's hard to remember where they've gone and how much the town has been since 2001:\n",
            "[Bridget] Lenny is a business associate with Zimmy, so people here see us at its heart\n",
            "(19): \t — we know what\n",
            "\n"
          ]
        }
      ],
      "source": [
        "!pip install transformers\n",
        "\n",
        "from transformers.tokenization_utils_base import BatchEncoding\n",
        "from transformers import AutoTokenizer, AutoModelForCausalLM, GPT2Config\n",
        "import torch\n",
        "\n",
        "\n",
        "class TextDataset(torch.utils.data.Dataset):\n",
        "    def __init__(self, inputs: BatchEncoding, labels: BatchEncoding):\n",
        "        \"\"\"\n",
        "        Inputs: encoded sequences of words.\n",
        "        Labels: the next word in the sequence (also encoded)\n",
        "        Usage: you can access them like lists, i.e. self.inputs[i]\n",
        "        this will give you a tokenizers.Encoding object; among its\n",
        "        useful attributes are ids (words encoded as numbers) and\n",
        "        attention_mask (to feed into the model). Examples:\n",
        "        >> self.inputs[i].ids\n",
        "        >> self.inputs[i].attention_mask\n",
        "        \"\"\"\n",
        "        self.inputs = inputs\n",
        "        self.labels = labels\n",
        "\n",
        "    def __getitem__(self, idx):\n",
        "        input_ids = torch.LongTensor(self.inputs[idx].ids)\n",
        "        input_masks = torch.LongTensor(self.inputs[idx].attention_mask)\n",
        "        label_ids = torch.LongTensor(self.labels[idx].ids)\n",
        "        # print(f'INDIV. SHAPES: {input_ids.shape}, {input_masks.shape}, {label_ids.shape}')\n",
        "        data = {'inputs_ids': input_ids,\n",
        "                'inputs_mask': input_masks,\n",
        "                'labels_ids': label_ids}\n",
        "        return data\n",
        "\n",
        "    def __len__(self):\n",
        "        return len(self.labels)\n",
        "\n",
        "\n",
        "def parse_corpus_text(text, seq_len, skip_size=1):\n",
        "    \"\"\"\n",
        "    Takes as input a corpus of text as a single string.\n",
        "    \n",
        "    Parameters:\n",
        "        - text: str\n",
        "        - seq_len: (int), the number of characters you want per sequence in \n",
        "                        your dataset\n",
        "        - skip_size: (int) the size of the jump between sequences.\n",
        "    \n",
        "    Returns:\n",
        "        - X: list of sentences, each of length seq_len\n",
        "        - Y: next word after each sentence\n",
        "        - vocabulary: set of unique words\n",
        "    \"\"\"\n",
        "    assert seq_len > 0, 'Training sequences must be of length at least 1'\n",
        "\n",
        "    text = text.replace('\\n', ' ')\n",
        "\n",
        "    X = []\n",
        "    Y = []\n",
        "    vocabulary = set()\n",
        "\n",
        "    words = text.split()\n",
        "\n",
        "    i = 0\n",
        "    while i < len(words) - 2*seq_len - 1:\n",
        "        sentence = ' '.join(words[i:i+seq_len])\n",
        "        next_word = ' '.join(words[i+seq_len: i+2*seq_len])\n",
        "        vocabulary.update(words[i:i+seq_len])\n",
        "        vocabulary.update(next_word)\n",
        "        # vocabulary.add(next_word)\n",
        "        X.append(sentence)\n",
        "        if len(next_word) == 0:\n",
        "            print(f'FOUND WORD OF LENGTH ZERO')\n",
        "        Y.append(next_word)\n",
        "        i += skip_size\n",
        "\n",
        "    return X, Y, vocabulary\n",
        "\n",
        "\n",
        "def encode_inputs_labels(X, Y, tokenizer):\n",
        "    assert len(X) == len(Y), 'Lengths of sentences and targets are different'\n",
        "\n",
        "    X_enc = []\n",
        "    Y_enc = []\n",
        "    for i in range(len(X)):\n",
        "        sentence = X[i]\n",
        "        next_word = Y[i]\n",
        "        enc_input = tokenizer.encode(sentence)\n",
        "        enc_target = tokenizer.encode(next_word)\n",
        "        X_enc.append(enc_input)\n",
        "        Y_enc.append(enc_target)\n",
        "    X_enc = torch.tensor(X_enc)\n",
        "    Y_enc = torch.tensor(Y_enc)\n",
        "    return X_enc, Y_enc\n",
        "\n",
        "\n",
        "def generate_poem(model, seed_str, num_stanzas=20, num_poems=5):\n",
        "    for i in range(num_poems):\n",
        "        print(f'POEM #{i}')\n",
        "        poem = seed_str\n",
        "        curr_seed = seed_str\n",
        "        for j in range(num_stanzas):\n",
        "            tokens = tokenizer.encode(curr_seed, return_tensors=\"pt\").to(device)\n",
        "            prediction = model.generate(tokens, min_length=40, max_length=48, do_sample=True, repetition_penalty=1.2)\n",
        "            poem += f'({j}): \\t{tokenizer.decode(prediction[0])[len(curr_seed):]}\\n'\n",
        "            curr_seed = tokenizer.decode(prediction[0])[len(curr_seed):]\n",
        "        print(poem)\n",
        "\n",
        "\n",
        "if __name__ == '__main__':\n",
        "    # Make dataset: raw text -> sentences -> encoded inputs & targets\n",
        "    raw_text = open('shakespeare.txt').read()\n",
        "    seq_len = 20\n",
        "    X, Y, vocabulary = parse_corpus_text(raw_text, seq_len)\n",
        "    # config = GPT2Config(vocab_size=len(vocabulary))\n",
        "    tokenizer = AutoTokenizer.from_pretrained('distilgpt2')\n",
        "    tokenizer.pad_token = tokenizer.eos_token\n",
        "    (X_enc, Y_enc) = (tokenizer(X, truncation=True, padding=True), tokenizer(Y, truncation=True, padding=True))\n",
        "\n",
        "    dataset = TextDataset(X_enc, Y_enc)\n",
        "\n",
        "    device = torch.device('cuda') if torch.cuda.is_available() else torch.device('cpu')\n",
        "\n",
        "    model = AutoModelForCausalLM.from_pretrained('distilgpt2')\n",
        "    model.to(device)\n",
        "\n",
        "    # Hyper-parameters\n",
        "    bs = 512\n",
        "    lr = 0.0005\n",
        "    num_epochs = 50\n",
        "\n",
        "    optimizer = torch.optim.Adam(model.parameters(), lr=lr)\n",
        "    train_loader = torch.utils.data.DataLoader(dataset,\n",
        "                                               batch_size=bs,\n",
        "                                               shuffle=False)\n",
        "    print('POEM BEFORE TRAINING')\n",
        "    generate_poem(model, \"I love deep learning\", num_poems=1)\n",
        "\n"
      ]
    },
    {
      "cell_type": "code",
      "source": [
        "    for curr_epoch in range(num_epochs):\n",
        "        print(f'EPOCH #{curr_epoch}')\n",
        "        tokens = tokenizer.encode(\"Nature's bequest gives nothing but doth lend\",\n",
        "                                  return_tensors=\"pt\").to(device)\n",
        "        prediction = model.generate(tokens,\n",
        "                                    min_length=20,\n",
        "                                    max_length=40,\n",
        "                                    do_sample=True,\n",
        "                                    repetition_penalty=1.2,\n",
        "                                    temperature=1.0)\n",
        "        print(tokenizer.decode(prediction[0]))\n",
        "        for i, batch in enumerate(train_loader):\n",
        "            optimizer.zero_grad()\n",
        "            \n",
        "            # from the tokenizers.Encoding objects, get what is needed\n",
        "            sentences_ids = batch['inputs_ids']\n",
        "            sentences_att_mask = batch['inputs_mask']\n",
        "            target_ids = batch['labels_ids']\n",
        "\n",
        "            # print(f'SHAPES: {sentences_ids.shape, sentences_att_mask.shape, target_ids.shape}')\n",
        "            outputs = model(sentences_ids,\n",
        "                            attention_mask=sentences_att_mask,\n",
        "                            labels=target_ids)\n",
        "\n",
        "            loss = outputs[0]\n",
        "            loss.backward()\n",
        "            optimizer.step()\n",
        "\n",
        "    print()\n",
        "    print('POEMS AFTER TRAINING')\n",
        "    generate_poem(model, \"I love deep learning\",num_poems=1)"
      ],
      "metadata": {
        "colab": {
          "base_uri": "https://localhost:8080/"
        },
        "id": "As7DowEw2tgR",
        "outputId": "5b7efc3b-7bfb-4459-a6d9-cf280aeace1f"
      },
      "execution_count": 9,
      "outputs": [
        {
          "output_type": "stream",
          "name": "stderr",
          "text": [
            "Setting `pad_token_id` to `eos_token_id`:50256 for open-end generation.\n"
          ]
        },
        {
          "output_type": "stream",
          "name": "stdout",
          "text": [
            "EPOCH #0\n",
            "Nature's bequest gives nothing but doth lend itself to a very particular, almost mythical sense of meaning. If you look at Dany in his book The World is Always Beautiful: His Work as\n"
          ]
        },
        {
          "output_type": "stream",
          "name": "stderr",
          "text": [
            "Setting `pad_token_id` to `eos_token_id`:50256 for open-end generation.\n"
          ]
        },
        {
          "output_type": "stream",
          "name": "stdout",
          "text": [
            "EPOCH #1\n",
            "Nature's bequest gives nothing but doth lend th m' a w lh, of\n",
            "O thee thou shall thyest thate<|endoftext|>\n"
          ]
        },
        {
          "output_type": "stream",
          "name": "stderr",
          "text": [
            "Setting `pad_token_id` to `eos_token_id`:50256 for open-end generation.\n"
          ]
        },
        {
          "output_type": "stream",
          "name": "stdout",
          "text": [
            "EPOCH #2\n",
            "Nature's bequest gives nothing but doth lendt- to n that,\n",
            "est thou the<|endoftext|>\n"
          ]
        },
        {
          "output_type": "stream",
          "name": "stderr",
          "text": [
            "Setting `pad_token_id` to `eos_token_id`:50256 for open-end generation.\n"
          ]
        },
        {
          "output_type": "stream",
          "name": "stdout",
          "text": [
            "EPOCH #3\n",
            "Nature's bequest gives nothing but doth lend eyes to my son and its own tender' bright<|endoftext|>\n"
          ]
        },
        {
          "output_type": "stream",
          "name": "stderr",
          "text": [
            "Setting `pad_token_id` to `eos_token_id`:50256 for open-end generation.\n"
          ]
        },
        {
          "output_type": "stream",
          "name": "stdout",
          "text": [
            "EPOCH #4\n",
            "Nature's bequest gives nothing but doth lend Thy eyes bright light that thy own, flame tender toine the his th beartlight faint thou soul my gaze Light His sweet memory her flesh shall\n"
          ]
        },
        {
          "output_type": "stream",
          "name": "stderr",
          "text": [
            "Setting `pad_token_id` to `eos_token_id`:50256 for open-end generation.\n"
          ]
        },
        {
          "output_type": "stream",
          "name": "stdout",
          "text": [
            "EPOCH #5\n",
            "Nature's bequest gives nothing but doth lend th own in, heir thy tot tender light thou might contracted memory bear not his a eyes willine father myth. bright he His brother'\n"
          ]
        },
        {
          "output_type": "stream",
          "name": "stderr",
          "text": [
            "Setting `pad_token_id` to `eos_token_id`:50256 for open-end generation.\n"
          ]
        },
        {
          "output_type": "stream",
          "name": "stdout",
          "text": [
            "EPOCH #6\n",
            "Nature's bequest gives nothing but doth lend his heir bear to of, memory: His contracted<|endoftext|>\n"
          ]
        },
        {
          "output_type": "stream",
          "name": "stderr",
          "text": [
            "Setting `pad_token_id` to `eos_token_id`:50256 for open-end generation.\n"
          ]
        },
        {
          "output_type": "stream",
          "name": "stdout",
          "text": [
            "EPOCH #7\n",
            "Nature's bequest gives nothing but doth lend thou: hist memory tender thy will th His heir Feed<|endoftext|>\n"
          ]
        },
        {
          "output_type": "stream",
          "name": "stderr",
          "text": [
            "Setting `pad_token_id` to `eos_token_id`:50256 for open-end generation.\n"
          ]
        },
        {
          "output_type": "stream",
          "name": "stdout",
          "text": [
            "EPOCH #8\n",
            "Nature's bequest gives nothing but doth lendt memory, heir: his might bear light to<|endoftext|>\n"
          ]
        },
        {
          "output_type": "stream",
          "name": "stderr",
          "text": [
            "Setting `pad_token_id` to `eos_token_id`:50256 for open-end generation.\n"
          ]
        },
        {
          "output_type": "stream",
          "name": "stdout",
          "text": [
            "EPOCH #9\n",
            "Nature's bequest gives nothing but doth lend to tender memory But his might Feed: thy contracted th thou,<|endoftext|>\n"
          ]
        },
        {
          "output_type": "stream",
          "name": "stderr",
          "text": [
            "Setting `pad_token_id` to `eos_token_id`:50256 for open-end generation.\n"
          ]
        },
        {
          "output_type": "stream",
          "name": "stdout",
          "text": [
            "EPOCH #10\n",
            "Nature's bequest gives nothing but doth lend thy thout own might, his bear th to:<|endoftext|>\n"
          ]
        },
        {
          "output_type": "stream",
          "name": "stderr",
          "text": [
            "Setting `pad_token_id` to `eos_token_id`:50256 for open-end generation.\n"
          ]
        },
        {
          "output_type": "stream",
          "name": "stdout",
          "text": [
            "EPOCH #11\n",
            "Nature's bequest gives nothing but doth lend tot might thy memory, His own thou eyes his light But bright th:<|endoftext|>\n"
          ]
        },
        {
          "output_type": "stream",
          "name": "stderr",
          "text": [
            "Setting `pad_token_id` to `eos_token_id`:50256 for open-end generation.\n"
          ]
        },
        {
          "output_type": "stream",
          "name": "stdout",
          "text": [
            "EPOCH #12\n",
            "Nature's bequest gives nothing but doth lend thou, th own to memory thy might contracted heir: But bright light eyes flame tendert and Feed his His<|endoftext|>\n"
          ]
        },
        {
          "output_type": "stream",
          "name": "stderr",
          "text": [
            "Setting `pad_token_id` to `eos_token_id`:50256 for open-end generation.\n"
          ]
        },
        {
          "output_type": "stream",
          "name": "stdout",
          "text": [
            "EPOCH #13\n",
            "Nature's bequest gives nothing but doth lend to his memory th Feed His eyes But own,: might thy thou bright flame lightt the contractedine would bear tender.<|endoftext|>\n"
          ]
        },
        {
          "output_type": "stream",
          "name": "stderr",
          "text": [
            "Setting `pad_token_id` to `eos_token_id`:50256 for open-end generation.\n"
          ]
        },
        {
          "output_type": "stream",
          "name": "stdout",
          "text": [
            "EPOCH #14\n",
            "Nature's bequest gives nothing but doth lend memory to thy own bear Feed His thou But, its eyes: bright light contracted th isine flame might theet the his heirst can.<|endoftext|>\n"
          ]
        },
        {
          "output_type": "stream",
          "name": "stderr",
          "text": [
            "Setting `pad_token_id` to `eos_token_id`:50256 for open-end generation.\n"
          ]
        },
        {
          "output_type": "stream",
          "name": "stdout",
          "text": [
            "EPOCH #15\n",
            "Nature's bequest gives nothing but doth lend to bear: flame contracted, his eyes own light might Feed thine thy thou<|endoftext|>\n"
          ]
        },
        {
          "output_type": "stream",
          "name": "stderr",
          "text": [
            "Setting `pad_token_id` to `eos_token_id`:50256 for open-end generation.\n"
          ]
        },
        {
          "output_type": "stream",
          "name": "stdout",
          "text": [
            "EPOCH #16\n",
            "Nature's bequest gives nothing but doth lend his eyes to th heir memory, thy thou light: bright Feed His own flame But might contractedine.<|endoftext|>\n"
          ]
        },
        {
          "output_type": "stream",
          "name": "stderr",
          "text": [
            "Setting `pad_token_id` to `eos_token_id`:50256 for open-end generation.\n"
          ]
        },
        {
          "output_type": "stream",
          "name": "stdout",
          "text": [
            "EPOCH #17\n",
            "Nature's bequest gives nothing but doth lend, flame to Feed light But bright: thy thou contractedine th own let his eyes bear might should feed His<|endoftext|>\n"
          ]
        },
        {
          "output_type": "stream",
          "name": "stderr",
          "text": [
            "Setting `pad_token_id` to `eos_token_id`:50256 for open-end generation.\n"
          ]
        },
        {
          "output_type": "stream",
          "name": "stdout",
          "text": [
            "EPOCH #18\n",
            "Nature's bequest gives nothing but doth lend th, his own: flame But bright thou to thy memory light Feedt<|endoftext|>\n"
          ]
        },
        {
          "output_type": "stream",
          "name": "stderr",
          "text": [
            "Setting `pad_token_id` to `eos_token_id`:50256 for open-end generation.\n"
          ]
        },
        {
          "output_type": "stream",
          "name": "stdout",
          "text": [
            "EPOCH #19\n",
            "Nature's bequest gives nothing but doth lend his But bright, flame thou: Light thy tot<|endoftext|>\n"
          ]
        },
        {
          "output_type": "stream",
          "name": "stderr",
          "text": [
            "Setting `pad_token_id` to `eos_token_id`:50256 for open-end generation.\n"
          ]
        },
        {
          "output_type": "stream",
          "name": "stdout",
          "text": [
            "EPOCH #20\n",
            "Nature's bequest gives nothing but doth lend eyes to, his memory Feed: light flame But bright thou contracted tht thy own Light<|endoftext|>\n"
          ]
        },
        {
          "output_type": "stream",
          "name": "stderr",
          "text": [
            "Setting `pad_token_id` to `eos_token_id`:50256 for open-end generation.\n"
          ]
        },
        {
          "output_type": "stream",
          "name": "stdout",
          "text": [
            "EPOCH #21\n",
            "Nature's bequest gives nothing but doth lend: his own Feed, light thou But bright contracted might to thy His eyes flame bear andine tht<|endoftext|>\n"
          ]
        },
        {
          "output_type": "stream",
          "name": "stderr",
          "text": [
            "Setting `pad_token_id` to `eos_token_id`:50256 for open-end generation.\n"
          ]
        },
        {
          "output_type": "stream",
          "name": "stdout",
          "text": [
            "EPOCH #22\n",
            "Nature's bequest gives nothing but doth lend to bear: flame, eyes thouine contracted light thy Feed But bright memory th his own His mightt<|endoftext|>\n"
          ]
        },
        {
          "output_type": "stream",
          "name": "stderr",
          "text": [
            "Setting `pad_token_id` to `eos_token_id`:50256 for open-end generation.\n"
          ]
        },
        {
          "output_type": "stream",
          "name": "stdout",
          "text": [
            "EPOCH #23\n",
            "Nature's bequest gives nothing but doth lend heir, his flame: light contracted to thy thout eyes bright But own His memory Feed is might thine or<|endoftext|>\n"
          ]
        },
        {
          "output_type": "stream",
          "name": "stderr",
          "text": [
            "Setting `pad_token_id` to `eos_token_id`:50256 for open-end generation.\n"
          ]
        },
        {
          "output_type": "stream",
          "name": "stdout",
          "text": [
            "EPOCH #24\n",
            "Nature's bequest gives nothing but doth lend eyes, his own: Feed thy might contracted thout His light But bright flame to thine<|endoftext|>\n"
          ]
        },
        {
          "output_type": "stream",
          "name": "stderr",
          "text": [
            "Setting `pad_token_id` to `eos_token_id`:50256 for open-end generation.\n"
          ]
        },
        {
          "output_type": "stream",
          "name": "stdout",
          "text": [
            "EPOCH #25\n",
            "Nature's bequest gives nothing but doth lend, his own eyes thou� flame thy contracted Feed But bright: light tot His;<|endoftext|>\n"
          ]
        },
        {
          "output_type": "stream",
          "name": "stderr",
          "text": [
            "Setting `pad_token_id` to `eos_token_id`:50256 for open-end generation.\n"
          ]
        },
        {
          "output_type": "stream",
          "name": "stdout",
          "text": [
            "EPOCH #26\n",
            "Nature's bequest gives nothing but doth lend But bright, light thou: thy own flame Feed his eyes contractedine tot His torch might th and<|endoftext|>\n"
          ]
        },
        {
          "output_type": "stream",
          "name": "stderr",
          "text": [
            "Setting `pad_token_id` to `eos_token_id`:50256 for open-end generation.\n"
          ]
        },
        {
          "output_type": "stream",
          "name": "stdout",
          "text": [
            "EPOCH #27\n",
            "Nature's bequest gives nothing but doth lend, his memory thou Feed: light But bright thy tot eyes contracted thine flame And own<|endoftext|>\n"
          ]
        },
        {
          "output_type": "stream",
          "name": "stderr",
          "text": [
            "Setting `pad_token_id` to `eos_token_id`:50256 for open-end generation.\n"
          ]
        },
        {
          "output_type": "stream",
          "name": "stdout",
          "text": [
            "EPOCH #28\n",
            "Nature's bequest gives nothing but doth lend, his But bright thou: light Feed His flame to thy�<|endoftext|>\n"
          ]
        },
        {
          "output_type": "stream",
          "name": "stderr",
          "text": [
            "Setting `pad_token_id` to `eos_token_id`:50256 for open-end generation.\n"
          ]
        },
        {
          "output_type": "stream",
          "name": "stdout",
          "text": [
            "EPOCH #29\n",
            "Nature's bequest gives nothing but doth lend, his heir thou But bright: thy own flame Feed might contracted eyes to light His memory thine andt<|endoftext|>\n"
          ]
        },
        {
          "output_type": "stream",
          "name": "stderr",
          "text": [
            "Setting `pad_token_id` to `eos_token_id`:50256 for open-end generation.\n"
          ]
        },
        {
          "output_type": "stream",
          "name": "stdout",
          "text": [
            "EPOCH #30\n",
            "Nature's bequest gives nothing but doth lend, his eyes But bright: light thou Feed thy tot flame th own.<|endoftext|>\n"
          ]
        },
        {
          "output_type": "stream",
          "name": "stderr",
          "text": [
            "Setting `pad_token_id` to `eos_token_id`:50256 for open-end generation.\n"
          ]
        },
        {
          "output_type": "stream",
          "name": "stdout",
          "text": [
            "EPOCH #31\n",
            "Nature's bequest gives nothing but doth lend, his eyes But bright: light thou contracted to thy Feed His flame own<|endoftext|>\n"
          ]
        },
        {
          "output_type": "stream",
          "name": "stderr",
          "text": [
            "Setting `pad_token_id` to `eos_token_id`:50256 for open-end generation.\n"
          ]
        },
        {
          "output_type": "stream",
          "name": "stdout",
          "text": [
            "EPOCH #32\n",
            "Nature's bequest gives nothing but doth lend, his flame contracted thou bright But own eyes tot thy' light Feed:<|endoftext|>\n"
          ]
        },
        {
          "output_type": "stream",
          "name": "stderr",
          "text": [
            "Setting `pad_token_id` to `eos_token_id`:50256 for open-end generation.\n"
          ]
        },
        {
          "output_type": "stream",
          "name": "stdout",
          "text": [
            "EPOCH #33\n",
            "Nature's bequest gives nothing but doth lend But bright: eyes thou, his own light Feed thy contractedine feed flame tot fedthy�<|endoftext|>\n"
          ]
        },
        {
          "output_type": "stream",
          "name": "stderr",
          "text": [
            "Setting `pad_token_id` to `eos_token_id`:50256 for open-end generation.\n"
          ]
        },
        {
          "output_type": "stream",
          "name": "stdout",
          "text": [
            "EPOCH #34\n",
            "Nature's bequest gives nothing but doth lend, his memory But light thou Feed thy: flame contracted tot thine eyes bright and own\n",
            "<|endoftext|>\n"
          ]
        },
        {
          "output_type": "stream",
          "name": "stderr",
          "text": [
            "Setting `pad_token_id` to `eos_token_id`:50256 for open-end generation.\n"
          ]
        },
        {
          "output_type": "stream",
          "name": "stdout",
          "text": [
            "EPOCH #35\n",
            "Nature's bequest gives nothing but doth lend, his heir thou contracted thy Feed But bright: eyes flame tot light His own thine<|endoftext|>\n"
          ]
        },
        {
          "output_type": "stream",
          "name": "stderr",
          "text": [
            "Setting `pad_token_id` to `eos_token_id`:50256 for open-end generation.\n"
          ]
        },
        {
          "output_type": "stream",
          "name": "stdout",
          "text": [
            "EPOCH #36\n",
            "Nature's bequest gives nothing but doth lend, his heir But bright: eyes thou contractedine Feed thy memory tot light flame And own<|endoftext|>\n"
          ]
        },
        {
          "output_type": "stream",
          "name": "stderr",
          "text": [
            "Setting `pad_token_id` to `eos_token_id`:50256 for open-end generation.\n"
          ]
        },
        {
          "output_type": "stream",
          "name": "stdout",
          "text": [
            "EPOCH #37\n",
            "Nature's bequest gives nothing but doth lend But bright, his eyes thou contractedine Feed feeds thy tht light: flame to own feed<|endoftext|>\n"
          ]
        },
        {
          "output_type": "stream",
          "name": "stderr",
          "text": [
            "Setting `pad_token_id` to `eos_token_id`:50256 for open-end generation.\n"
          ]
        },
        {
          "output_type": "stream",
          "name": "stdout",
          "text": [
            "EPOCH #38\n",
            "Nature's bequest gives nothing but doth lend, his eyes thou contracted tot thy Feed th own light But bright: flame�<|endoftext|>\n"
          ]
        },
        {
          "output_type": "stream",
          "name": "stderr",
          "text": [
            "Setting `pad_token_id` to `eos_token_id`:50256 for open-end generation.\n"
          ]
        },
        {
          "output_type": "stream",
          "name": "stdout",
          "text": [
            "EPOCH #39\n",
            "Nature's bequest gives nothing but doth lend But bright, light thou Feed thy contracted toine eyes: flame his own<|endoftext|>\n"
          ]
        },
        {
          "output_type": "stream",
          "name": "stderr",
          "text": [
            "Setting `pad_token_id` to `eos_token_id`:50256 for open-end generation.\n"
          ]
        },
        {
          "output_type": "stream",
          "name": "stdout",
          "text": [
            "EPOCH #40\n",
            "Nature's bequest gives nothing but doth lendst, his memory But bright thou contracted to light thy Feed His own eyes flame th:<|endoftext|>\n"
          ]
        },
        {
          "output_type": "stream",
          "name": "stderr",
          "text": [
            "Setting `pad_token_id` to `eos_token_id`:50256 for open-end generation.\n"
          ]
        },
        {
          "output_type": "stream",
          "name": "stdout",
          "text": [
            "EPOCH #41\n",
            "Nature's bequest gives nothing but doth lend, his But bright Feed: light thou thy contracted eyes tot flame own thinest<|endoftext|>\n"
          ]
        },
        {
          "output_type": "stream",
          "name": "stderr",
          "text": [
            "Setting `pad_token_id` to `eos_token_id`:50256 for open-end generation.\n"
          ]
        },
        {
          "output_type": "stream",
          "name": "stdout",
          "text": [
            "EPOCH #42\n",
            "Nature's bequest gives nothing but doth lend, his But bright thou: light thy Feed th own eyes tot flame contractedine His eye might feed<|endoftext|>\n"
          ]
        },
        {
          "output_type": "stream",
          "name": "stderr",
          "text": [
            "Setting `pad_token_id` to `eos_token_id`:50256 for open-end generation.\n"
          ]
        },
        {
          "output_type": "stream",
          "name": "stdout",
          "text": [
            "EPOCH #43\n",
            "Nature's bequest gives nothing but doth lendt, bear thou contracted to light But bright: eyes Feed thy contract his flame own thine mightst His shining Thou and<|endoftext|>\n"
          ]
        },
        {
          "output_type": "stream",
          "name": "stderr",
          "text": [
            "Setting `pad_token_id` to `eos_token_id`:50256 for open-end generation.\n"
          ]
        },
        {
          "output_type": "stream",
          "name": "stdout",
          "text": [
            "EPOCH #44\n",
            "Nature's bequest gives nothing but doth lend, his heir thou But bright Feed thy own eyes contracted light His flame:<|endoftext|>\n"
          ]
        },
        {
          "output_type": "stream",
          "name": "stderr",
          "text": [
            "Setting `pad_token_id` to `eos_token_id`:50256 for open-end generation.\n"
          ]
        },
        {
          "output_type": "stream",
          "name": "stdout",
          "text": [
            "EPOCH #45\n",
            "Nature's bequest gives nothing but doth lend contracted thou, his eyes But bright: light Feed thy own tot flame His memory<|endoftext|>\n"
          ]
        },
        {
          "output_type": "stream",
          "name": "stderr",
          "text": [
            "Setting `pad_token_id` to `eos_token_id`:50256 for open-end generation.\n"
          ]
        },
        {
          "output_type": "stream",
          "name": "stdout",
          "text": [
            "EPOCH #46\n",
            "Nature's bequest gives nothing but doth lend, light thou Feed But bright: eyes contracted thy own flame tot his<|endoftext|>\n"
          ]
        },
        {
          "output_type": "stream",
          "name": "stderr",
          "text": [
            "Setting `pad_token_id` to `eos_token_id`:50256 for open-end generation.\n"
          ]
        },
        {
          "output_type": "stream",
          "name": "stdout",
          "text": [
            "EPOCH #47\n",
            "Nature's bequest gives nothing but doth lend But bright, light thou contracted thy Feed th own eyes tot his flame:<|endoftext|>\n"
          ]
        },
        {
          "output_type": "stream",
          "name": "stderr",
          "text": [
            "Setting `pad_token_id` to `eos_token_id`:50256 for open-end generation.\n"
          ]
        },
        {
          "output_type": "stream",
          "name": "stdout",
          "text": [
            "EPOCH #48\n",
            "Nature's bequest gives nothing but doth lend, his heir thout Feed But bright: light thy might to flame contracted thine eyes own His memory Thy�<|endoftext|>\n"
          ]
        },
        {
          "output_type": "stream",
          "name": "stderr",
          "text": [
            "Setting `pad_token_id` to `eos_token_id`:50256 for open-end generation.\n"
          ]
        },
        {
          "output_type": "stream",
          "name": "stdout",
          "text": [
            "EPOCH #49\n",
            "Nature's bequest gives nothing but doth lend, his eyes thou contracted to thy But bright: light Feed th own flame's<|endoftext|>\n"
          ]
        },
        {
          "output_type": "stream",
          "name": "stderr",
          "text": [
            "Setting `pad_token_id` to `eos_token_id`:50256 for open-end generation.\n"
          ]
        },
        {
          "output_type": "stream",
          "name": "stdout",
          "text": [
            "\n",
            "POEMS AFTER TRAINING\n",
            "POEM #0\n"
          ]
        },
        {
          "output_type": "stream",
          "name": "stderr",
          "text": [
            "Setting `pad_token_id` to `eos_token_id`:50256 for open-end generation.\n",
            "Setting `pad_token_id` to `eos_token_id`:50256 for open-end generation.\n",
            "Setting `pad_token_id` to `eos_token_id`:50256 for open-end generation.\n",
            "Setting `pad_token_id` to `eos_token_id`:50256 for open-end generation.\n",
            "Setting `pad_token_id` to `eos_token_id`:50256 for open-end generation.\n",
            "Setting `pad_token_id` to `eos_token_id`:50256 for open-end generation.\n",
            "Setting `pad_token_id` to `eos_token_id`:50256 for open-end generation.\n",
            "Setting `pad_token_id` to `eos_token_id`:50256 for open-end generation.\n",
            "Setting `pad_token_id` to `eos_token_id`:50256 for open-end generation.\n",
            "Setting `pad_token_id` to `eos_token_id`:50256 for open-end generation.\n",
            "Setting `pad_token_id` to `eos_token_id`:50256 for open-end generation.\n",
            "Setting `pad_token_id` to `eos_token_id`:50256 for open-end generation.\n",
            "Setting `pad_token_id` to `eos_token_id`:50256 for open-end generation.\n",
            "Setting `pad_token_id` to `eos_token_id`:50256 for open-end generation.\n",
            "Setting `pad_token_id` to `eos_token_id`:50256 for open-end generation.\n",
            "Setting `pad_token_id` to `eos_token_id`:50256 for open-end generation.\n",
            "Setting `pad_token_id` to `eos_token_id`:50256 for open-end generation.\n",
            "Setting `pad_token_id` to `eos_token_id`:50256 for open-end generation.\n",
            "Setting `pad_token_id` to `eos_token_id`:50256 for open-end generation.\n"
          ]
        },
        {
          "output_type": "stream",
          "name": "stdout",
          "text": [
            "I love deep learning(0): \t memory But his eyes thou's heir, bright Feed thy contracted to light: flame thine own might tot His eye shall feed thy' but bright be lamp incease bear.<|endoftext|>\n",
            "(1): \t flame Thy andtst of lights your candle'slight\n",
            "(2): \t thou contracted, thy But bright Feed His light: his eyes to own memory shalt's might to thine but bright or lamp Thou on the Light thee's.<|endoftext|>\n",
            "(3): \t flame ist and dim off-light Thy\" moon feed; light your\n",
            "(4): \t Feed's thou, his bright But own thy: eyes contracted to thine His Light Thou' lamp but shines thou might.<|endoftext|>\n",
            "(5): \t light thee flame thout deceiving memory thou shalt bestainsth from thy heir tender w bear'slight\n",
            "(6): \t, his eyes contracted tot own But bright Feed: His light turned on lamp but lamps might be suninecease<|endoftext|>\n",
            "(7): \t flame thou's thy tot th it brightness Thou' light. Light Bright and light heir's Thy memory thou in lights\n",
            "(8): \t But bright, eyes contracted tot own might his eye Feed His light: light thee<|endoftext|>\n",
            "(9): \t flame thou's thy tot bear thine and. memory its lamp is burning heir feed shall be instlight Thy' light thy w tender- Bright\n",
            "(10): \t, bright But own eyes Feed: His Light his dark contracted tot<|endoftext|>\n",
            "(11): \t flame's thout thy to light feed thine-light might contracted can be feeding Thy. light from memory thy tender or the lights in lighting Thou heir and eye is\n",
            "(12): \t thou, his own eyes Feed But bright: His Light but dark thy\n",
            "(13): \t's light contracted tot flameine So bright As bright as th. light might contracted and brightness That memory To light By light shining<|endoftext|>\n",
            "(14): \t light, eyes But Bright thou thy Feed: His Light his own sun tot sunlight; light thee's thy\n",
            "(15): \t contracted tot flame and bright but bright thine'slight bystar. light thy memory thy<|endoftext|>\n",
            "(16): \t thou, his eyes But own: His tender Feed Light Thy heir tot bear feed thy might decease lamp be dark Thou it in thy;\n",
            "(17): \t light's flame contracted tot bright thine and eye but bright<|endoftext|>\n",
            "(18): \t eyes thou, own But bright: hist Feed thy to the feed might onlight His memory heir; light Light as light- star lamp is not Bright sun. light in\n",
            "(19): \t flame's his eye contractedtine th<|endoftext|>\n",
            "\n"
          ]
        }
      ]
    },
    {
      "cell_type": "code",
      "source": [
        ""
      ],
      "metadata": {
        "id": "zMUBZd91bLUr"
      },
      "execution_count": null,
      "outputs": []
    }
  ]
}